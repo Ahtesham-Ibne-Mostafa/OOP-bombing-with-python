{
 "cells": [
  {
   "cell_type": "code",
   "execution_count": 20,
   "metadata": {},
   "outputs": [
    {
     "name": "stdout",
     "output_type": "stream",
     "text": [
      "150.0\n",
      "300.0\n"
     ]
    }
   ],
   "source": [
    "class triangle:\n",
    "    def __init__(self,a,b):\n",
    "        self.base=a\n",
    "        self.height=b\n",
    "        print(.5*self.base*self.height)\n",
    "area1=triangle(10,30)\n",
    "area2=triangle(20,30)"
   ]
  },
  {
   "cell_type": "code",
   "execution_count": 11,
   "metadata": {},
   "outputs": [
    {
     "name": "stdout",
     "output_type": "stream",
     "text": [
      "200\n"
     ]
    }
   ],
   "source": [
    "class a:\n",
    "    def __init__(self,q,r):\n",
    "        self.q=q\n",
    "        self.r=r\n",
    "class b(a):\n",
    "    def x(self):\n",
    "        print(self.q*self.r)\n",
    "class c(a):\n",
    "    def x(self):\n",
    "        print(self.q*self.r*.5)\n",
    "p = b(int(input()),int(input()))\n",
    "p.x()\n"
   ]
  },
  {
   "cell_type": "code",
   "execution_count": 9,
   "metadata": {},
   "outputs": [
    {
     "name": "stdout",
     "output_type": "stream",
     "text": [
      "A bird is flying in the sky\n"
     ]
    }
   ],
   "source": [
    "class bird:\n",
    "    def __init__(self):\n",
    "        print('A bird is flying in the sky')\n",
    "b1=bird()"
   ]
  },
  {
   "cell_type": "code",
   "execution_count": 7,
   "metadata": {},
   "outputs": [
    {
     "name": "stdout",
     "output_type": "stream",
     "text": [
      "<__main__.animal object at 0x0000022184090430>\n"
     ]
    }
   ],
   "source": [
    "class animal:\n",
    "    pass\n",
    "tiger=animal()\n",
    "print (tiger)"
   ]
  },
  {
   "cell_type": "code",
   "execution_count": 10,
   "metadata": {},
   "outputs": [
    {
     "name": "stdout",
     "output_type": "stream",
     "text": [
      "The name of the profes sor is  Albus\n"
     ]
    }
   ],
   "source": [
    "class wizard:\n",
    "    def __init__(self, name):\n",
    "        self.name=name\n",
    "wiz1=wizard(\"Severus\")\n",
    "wiz2=wizard ( 'Albus')\n",
    "print('The name of the profes sor is ',wiz2.name)"
   ]
  },
  {
   "cell_type": "code",
   "execution_count": 1,
   "metadata": {},
   "outputs": [
    {
     "ename": "NameError",
     "evalue": "name 'stu3' is not defined",
     "output_type": "error",
     "traceback": [
      "\u001b[1;31m---------------------------------------------------------------------------\u001b[0m",
      "\u001b[1;31mNameError\u001b[0m                                 Traceback (most recent call last)",
      "\u001b[1;32mf:\\Github\\OOP with Python\\Practice.ipynb Cell 6'\u001b[0m in \u001b[0;36m<cell line: 7>\u001b[1;34m()\u001b[0m\n\u001b[0;32m      <a href='vscode-notebook-cell:/f%3A/Github/OOP%20with%20Python/Practice.ipynb#ch0000005?line=4'>5</a>\u001b[0m stu2\u001b[39m=\u001b[39mstudent ( \u001b[39m'\u001b[39m\u001b[39m Elizabeth\u001b[39m\u001b[39m'\u001b[39m)\n\u001b[0;32m      <a href='vscode-notebook-cell:/f%3A/Github/OOP%20with%20Python/Practice.ipynb#ch0000005?line=5'>6</a>\u001b[0m stu4\u001b[39m=\u001b[39mstudent ( \u001b[39m'\u001b[39m\u001b[39mPhilip\u001b[39m\u001b[39m'\u001b[39m)\n\u001b[1;32m----> <a href='vscode-notebook-cell:/f%3A/Github/OOP%20with%20Python/Practice.ipynb#ch0000005?line=6'>7</a>\u001b[0m \u001b[39mprint\u001b[39m (stu3\u001b[39m.\u001b[39mname, \u001b[39m'\u001b[39m\u001b[39mis very attentive and studious\u001b[39m\u001b[39m'\u001b[39m )\n",
      "\u001b[1;31mNameError\u001b[0m: name 'stu3' is not defined"
     ]
    }
   ],
   "source": [
    "class student:\n",
    "    def __init__(self, name):\n",
    "        self.name=name\n",
    "stul=student ( 'Edward')\n",
    "stu2=student ( ' Elizabeth')\n",
    "stu4=student ( 'Philip')\n",
    "print (stu3.name, 'is very attentive and studious' )"
   ]
  },
  {
   "cell_type": "code",
   "execution_count": 3,
   "metadata": {},
   "outputs": [
    {
     "name": "stdout",
     "output_type": "stream",
     "text": [
      "an object is created\n",
      "akkas 21201342\n"
     ]
    },
    {
     "name": "stderr",
     "output_type": "stream",
     "text": [
      "\n",
      "KeyboardInterrupt\n",
      "\n"
     ]
    }
   ],
   "source": [
    "class student:\n",
    "    def __init__(self,a,b):                 # constructor\n",
    "        print('an object is created')\n",
    "        self.name = a\n",
    "        self.id= b\n",
    "        print(self.name,self.id)\n",
    "    def nam(self):\n",
    "        print( self.name)\n",
    "st=student('akkas',21201342)\n",
    "\n",
    "st.nam()\n",
    "print('----------------------------------')\n",
    "st.name='ganja'\n",
    "print(st.name)\n",
    "print('------------------------------------')\n",
    "print(st)"
   ]
  },
  {
   "cell_type": "code",
   "execution_count": null,
   "metadata": {},
   "outputs": [],
   "source": [
    "class car :\n",
    "    def __init__(self,a,b):\n",
    "        self.model=a\n",
    "        self.year=b\n",
    "        print('A car is made for you')\n",
    "        print(self)\n",
    "    def color(a):\n",
    "        print(a)\n",
    "        a.color=input('Enter the color :')\n",
    "        print(a.model,a.year,a.color)\n",
    "ganja=car('biri',2025)\n",
    "ganja.color()"
   ]
  },
  {
   "cell_type": "code",
   "execution_count": null,
   "metadata": {},
   "outputs": [],
   "source": [
    "class plane:\n",
    "    def __init__(self,a,b):\n",
    "        self.color=a\n",
    "        self.engine=b\n",
    "        print('a uru jahaj is created for you ')\n",
    "    def change(d,c):\n",
    "        d.color=c\n",
    "\n",
    "    def fly(d):\n",
    "        print(d.color,d.engine)\n",
    "\n",
    "urujahaj = plane('white',4)\n",
    "urujahaj.fly()\n",
    "print('=======================================================================')\n",
    "urujahaj.change('transparent')\n",
    "urujahaj.fly()\n",
    "\n",
    "print(urujahaj.__dict__)\n",
    "\n",
    "print(dir(urujahaj))"
   ]
  },
  {
   "cell_type": "code",
   "execution_count": null,
   "metadata": {},
   "outputs": [],
   "source": [
    "class hulk:\n",
    "    def __init__(self,a,b):\n",
    "        self.ac=a\n",
    "        self.dc=b\n",
    "        print('a hulk is created')\n",
    "    def current(self):\n",
    "        self.total=self.ac+self.dc\n",
    "        print('total current is :',self.total)\n",
    "    def tulona(self,c):\n",
    "        if self.total==c.total:\n",
    "            print('both of them are same hulk')\n",
    "        else:\n",
    "            print('they are differant hulk')\n",
    "\n",
    "man= hulk(240,12)\n",
    "woman= hulk(230,22)\n",
    "man.current()\n",
    "woman.current()\n",
    "print('=====================================================')\n",
    "man. tulona(woman)\n",
    "print('===================================================')\n",
    "man.ac=220\n",
    "man.current()\n",
    "woman.tulona(man)"
   ]
  },
  {
   "cell_type": "code",
   "execution_count": null,
   "metadata": {},
   "outputs": [],
   "source": [
    "class gaja:\n",
    "    def __init__(self,a,b):\n",
    "        self.list=a.copy()\n",
    "        self.num=b+5\n",
    "        self.list[0]='blue'\n",
    "        print(self.list)\n",
    "        print(self.num)\n",
    "x=['a','b','c','d','e']\n",
    "y=5\n",
    "ninja=gaja(x,y)\n",
    "print(x)\n",
    "print(y)"
   ]
  },
  {
   "cell_type": "code",
   "execution_count": null,
   "metadata": {},
   "outputs": [],
   "source": [
    "class gaja:\n",
    "    def __init__(self,a,b):\n",
    "        self.list=a\n",
    "        self.num=b+5\n",
    "        self.list[0]='blue'\n",
    "        print(self.list)\n",
    "        print(self.num)\n",
    "x=['a','b','c','d','e']\n",
    "y=5\n",
    "ninja=gaja(x,y)\n",
    "print(x)\n",
    "print(y)"
   ]
  },
  {
   "cell_type": "code",
   "execution_count": 6,
   "metadata": {},
   "outputs": [
    {
     "name": "stdout",
     "output_type": "stream",
     "text": [
      "5\n",
      "9\n"
     ]
    }
   ],
   "source": [
    "# methon overloading \n",
    "#!pip install multipledispatch\n",
    "from multipledispatch import dispatch \n",
    "class dot:\n",
    "    @dispatch(int,int)\n",
    "    def add(self,a,b):\n",
    "        print(a+b)\n",
    "    @dispatch(int,int,int)\n",
    "    def add(self,a,b,c):\n",
    "        print(a+b+c)\n",
    "x=dot()\n",
    "x.add(2,3)\n",
    "y=dot()\n",
    "y.add(2,3,4)"
   ]
  },
  {
   "cell_type": "code",
   "execution_count": 7,
   "metadata": {},
   "outputs": [
    {
     "name": "stdout",
     "output_type": "stream",
     "text": [
      "5\n",
      "9\n"
     ]
    }
   ],
   "source": [
    "# constructor overloading \n",
    "#!pip install multipledispatch\n",
    "\n",
    "from multipledispatch import dispatch \n",
    "class dot:\n",
    "    @dispatch(int,int)\n",
    "    def __init__(self,a,b):\n",
    "        print(a+b)\n",
    "    @dispatch(int,int,int)\n",
    "    def __init__(self,a,b,c):\n",
    "        print(a+b+c)\n",
    "\n",
    "x=dot(2,3)\n",
    "\n",
    "y=dot(2,3,4)"
   ]
  },
  {
   "cell_type": "code",
   "execution_count": 46,
   "metadata": {},
   "outputs": [
    {
     "name": "stdout",
     "output_type": "stream",
     "text": [
      "ninja is white, which is crying with smile\n",
      "drugs is black, which is crying with smile\n",
      "ninja drugs is white black, which is crying with smile\n"
     ]
    }
   ],
   "source": [
    "class color :\n",
    "    def __init__(self,a,b):\n",
    "        self.color=a\n",
    "        self.name=b\n",
    "        print(f'{self.name} is {self.color}, which is crying with smile')\n",
    "    def update (self,c):\n",
    "        self.name=c\n",
    "    def kick(self):\n",
    "        print(f'{self.name} is {self.color}, which is crying with smile')\n",
    "    def __add__(self,other):\n",
    "        return color(self.color+' '+other.color,self.name+' '+other.name)\n",
    "    \n",
    "#+++++++++++++++++++++++++++++++++++++++++++++++++++++++++++++++++++++\n",
    "\n",
    "c1 = color('white' , 'ninja')\n",
    "\n",
    "c2=color('black','drugs')\n",
    "a=c1+c2\n"
   ]
  },
  {
   "cell_type": "code",
   "execution_count": 49,
   "metadata": {},
   "outputs": [
    {
     "name": "stdout",
     "output_type": "stream",
     "text": [
      "kukur chana is dancing.\n",
      "{'eyes': 0, 'ears': 6, 'legs': 0, 'hands': 'infinity'}\n",
      "kukur chana\n",
      "{'eyes': 0, 'ears': 6, 'legs': 0, 'hands': 'infinity'}\n"
     ]
    }
   ],
   "source": [
    "class ghost:\n",
    "    def __init__ (self, a,b):\n",
    "        self.name=a\n",
    "        self.body=b\n",
    "    def update(self,c=0):\n",
    "        self.name+=' is dancing.'\n",
    "        self.body['eyes']=c\n",
    "    def show(self):\n",
    "        print(self.name)\n",
    "        print(self.body)\n",
    "\n",
    "#=================================================\n",
    "\n",
    "x='kukur chana'\n",
    "y={'eyes':5,'ears':6,'legs':0,'hands':'infinity'}\n",
    "voot=ghost(x,y)\n",
    "voot.update()\n",
    "voot.show()\n",
    "print (x)\n",
    "print(y)"
   ]
  }
 ],
 "metadata": {
  "interpreter": {
   "hash": "de19f4270d5eeaa07b0899d4dfe63451810c6343116c3e1a49acf971fc0f14df"
  },
  "kernelspec": {
   "display_name": "Python 3.10.2 64-bit (windows store)",
   "name": "python3"
  },
  "language_info": {
   "codemirror_mode": {
    "name": "ipython",
    "version": 3
   },
   "file_extension": ".py",
   "mimetype": "text/x-python",
   "name": "python",
   "nbconvert_exporter": "python",
   "pygments_lexer": "ipython3",
   "version": "3.10.4"
  },
  "orig_nbformat": 4
 },
 "nbformat": 4,
 "nbformat_minor": 2
}
